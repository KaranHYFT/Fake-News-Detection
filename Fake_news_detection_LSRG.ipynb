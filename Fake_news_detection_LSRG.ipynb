{
  "nbformat": 4,
  "nbformat_minor": 0,
  "metadata": {
    "kernelspec": {
      "display_name": "Python 3",
      "language": "python",
      "name": "python3"
    },
    "language_info": {
      "codemirror_mode": {
        "name": "ipython",
        "version": 3
      },
      "file_extension": ".py",
      "mimetype": "text/x-python",
      "name": "python",
      "nbconvert_exporter": "python",
      "pygments_lexer": "ipython3",
      "version": "3.7.0"
    },
    "colab": {
      "name": "Fake_news_detection_(1).ipynb",
      "provenance": [],
      "collapsed_sections": []
    }
  },
  "cells": [
    {
      "cell_type": "markdown",
      "metadata": {
        "id": "6sTX0piaeSdp"
      },
      "source": [
        "# Natural Language Processing\n",
        "## Fake News Detection Using Random Forest, logistic regression, SVM and Naive Bayes."
      ]
    },
    {
      "cell_type": "code",
      "metadata": {
        "colab": {
          "base_uri": "https://localhost:8080/"
        },
        "id": "4dFqeq-mgA9o",
        "outputId": "374ba42d-1b07-4c7d-c7a9-fa2f6591bab5"
      },
      "source": [
        "!pip3 install pytest-runner --upgrade\n",
        "!pip3 install ftfy"
      ],
      "execution_count": 73,
      "outputs": [
        {
          "output_type": "stream",
          "text": [
            "Requirement already satisfied: pytest-runner in /usr/local/lib/python3.7/dist-packages (5.3.1)\n",
            "Requirement already satisfied: ftfy in /usr/local/lib/python3.7/dist-packages (6.0.3)\n",
            "Requirement already satisfied: wcwidth in /usr/local/lib/python3.7/dist-packages (from ftfy) (0.2.5)\n"
          ],
          "name": "stdout"
        }
      ]
    },
    {
      "cell_type": "code",
      "metadata": {
        "colab": {
          "base_uri": "https://localhost:8080/"
        },
        "id": "TigShcpUUuCt",
        "outputId": "21567166-eb9c-4fb2-f5ac-1a2b6f6f7500"
      },
      "source": [
        "import ftfy\n",
        "import nltk\n",
        "from nltk.stem import SnowballStemmer\n",
        "from nltk.stem.porter import PorterStemmer\n",
        "from nltk.tokenize import word_tokenize\n",
        "from nltk.corpus import stopwords\n",
        "from collections import defaultdict\n",
        "from nltk.corpus import wordnet as wn\n",
        "from nltk.stem import WordNetLemmatizer\n",
        "from nltk.tokenize import word_tokenize\n",
        "from nltk import pos_tag\n",
        "nltk.download('stopwords')\n",
        "nltk.download('punkt')\n",
        "import seaborn as sns\n",
        "import pandas as pd\n",
        "import csv\n",
        "import numpy as np\n",
        "import warnings\n",
        "import json\n",
        "import re\n",
        "%matplotlib inline\n",
        "import matplotlib.pyplot as plt"
      ],
      "execution_count": 74,
      "outputs": [
        {
          "output_type": "stream",
          "text": [
            "[nltk_data] Downloading package stopwords to /root/nltk_data...\n",
            "[nltk_data]   Package stopwords is already up-to-date!\n",
            "[nltk_data] Downloading package punkt to /root/nltk_data...\n",
            "[nltk_data]   Package punkt is already up-to-date!\n"
          ],
          "name": "stdout"
        }
      ]
    },
    {
      "cell_type": "code",
      "metadata": {
        "id": "DUAbBERXeSds"
      },
      "source": [
        "from sklearn.model_selection import train_test_split, cross_validate, StratifiedKFold, GridSearchCV\n",
        "from sklearn.base import BaseEstimator, TransformerMixin\n",
        "from sklearn.pipeline import Pipeline, FeatureUnion\n",
        "from sklearn.feature_extraction import DictVectorizer\n",
        "from sklearn.feature_selection import SelectKBest, chi2\n",
        "from sklearn.linear_model import LogisticRegression\n",
        "from sklearn.naive_bayes import MultinomialNB,GaussianNB\n",
        "from sklearn.metrics import accuracy_score, classification_report, confusion_matrix\n",
        "from sklearn.feature_extraction.text import TfidfTransformer,CountVectorizer,TfidfVectorizer\n",
        "from sklearn.preprocessing import Binarizer\n",
        "from collections import Counter\n",
        "from os import listdir, makedirs\n",
        "from os.path import isfile, join, splitext, split\n",
        "from wordcloud import STOPWORDS, WordCloud\n",
        "from sklearn.preprocessing import StandardScaler,LabelEncoder\n",
        "from sklearn.decomposition import TruncatedSVD\n",
        "from sklearn import tree\n",
        "from sklearn.ensemble import RandomForestClassifier\n",
        "from sklearn import model_selection, svm\n",
        "from sklearn.base import BaseEstimator, TransformerMixin\n",
        "warnings.filterwarnings('ignore')\n",
        "np.random.seed(0)"
      ],
      "execution_count": 75,
      "outputs": []
    },
    {
      "cell_type": "markdown",
      "metadata": {
        "id": "xz9HGIEFeSdt"
      },
      "source": [
        "# Loading the LIAR Dataset\n",
        "\n",
        "---\n",
        "The data is categorised into four tab-separated files. It's being loaded as a pandas dataframe. Creating a single file from the train, test, and validation files so that we can conduct the train and test split as needed."
      ]
    },
    {
      "cell_type": "markdown",
      "metadata": {
        "id": "BS1GJp2bry85"
      },
      "source": [
        "#Mounting the dataset through Google drive "
      ]
    },
    {
      "cell_type": "code",
      "metadata": {
        "colab": {
          "base_uri": "https://localhost:8080/"
        },
        "id": "3Wtd2oQcejCP",
        "outputId": "285de9c0-50dc-4fbf-d3af-27e080b4ec2e"
      },
      "source": [
        "from google.colab import drive\n",
        "drive.mount('/content/gdrive', force_remount=True)"
      ],
      "execution_count": 76,
      "outputs": [
        {
          "output_type": "stream",
          "text": [
            "Mounted at /content/gdrive\n"
          ],
          "name": "stdout"
        }
      ]
    },
    {
      "cell_type": "code",
      "metadata": {
        "id": "LXtOCr-LeSdu"
      },
      "source": [
        "# Importing the dataset\n",
        "train = pd.read_csv('/content/gdrive/MyDrive/project/enter/data/train.tsv', delimiter='\\t', quoting=3, header=None)\n",
        "test = pd.read_csv('/content/gdrive/MyDrive/project/enter/data/test.tsv', delimiter='\\t', quoting=3, header=None)\n",
        "valid = pd.read_csv('/content/gdrive/MyDrive/project/enter/data/valid.tsv', delimiter='\\t', quoting=3, header=None)"
      ],
      "execution_count": 77,
      "outputs": []
    },
    {
      "cell_type": "code",
      "metadata": {
        "colab": {
          "base_uri": "https://localhost:8080/",
          "height": 306
        },
        "id": "RopAg3OfeSdu",
        "outputId": "ce768e54-874b-43c3-b6fb-9e34c1f2b333"
      },
      "source": [
        "raw_dataframe = pd.concat([train, test, valid], axis=0, sort=False)\n",
        "raw_dataframe = raw_dataframe.sample(frac=1).reset_index()\n",
        "print(raw_dataframe.shape)\n",
        "raw_dataframe.columns=[\"index\",\"ID\", \"label\", \"statement\", \"subject\", \"speaker\", \"job\", \"state\", \"party\", \"barely_true_cts\",\n",
        "        \"false_cts\", \"half_true_cts\", \"mostly_true_cts\", \"pants_on_fire_cts\", \"context\"]\n",
        "raw_dataframe.head(5)"
      ],
      "execution_count": 78,
      "outputs": [
        {
          "output_type": "stream",
          "text": [
            "(12836, 15)\n"
          ],
          "name": "stdout"
        },
        {
          "output_type": "execute_result",
          "data": {
            "text/html": [
              "<div>\n",
              "<style scoped>\n",
              "    .dataframe tbody tr th:only-of-type {\n",
              "        vertical-align: middle;\n",
              "    }\n",
              "\n",
              "    .dataframe tbody tr th {\n",
              "        vertical-align: top;\n",
              "    }\n",
              "\n",
              "    .dataframe thead th {\n",
              "        text-align: right;\n",
              "    }\n",
              "</style>\n",
              "<table border=\"1\" class=\"dataframe\">\n",
              "  <thead>\n",
              "    <tr style=\"text-align: right;\">\n",
              "      <th></th>\n",
              "      <th>index</th>\n",
              "      <th>ID</th>\n",
              "      <th>label</th>\n",
              "      <th>statement</th>\n",
              "      <th>subject</th>\n",
              "      <th>speaker</th>\n",
              "      <th>job</th>\n",
              "      <th>state</th>\n",
              "      <th>party</th>\n",
              "      <th>barely_true_cts</th>\n",
              "      <th>false_cts</th>\n",
              "      <th>half_true_cts</th>\n",
              "      <th>mostly_true_cts</th>\n",
              "      <th>pants_on_fire_cts</th>\n",
              "      <th>context</th>\n",
              "    </tr>\n",
              "  </thead>\n",
              "  <tbody>\n",
              "    <tr>\n",
              "      <th>0</th>\n",
              "      <td>8289</td>\n",
              "      <td>423.json</td>\n",
              "      <td>true</td>\n",
              "      <td>\"McCain opposes a woman's right to choose.\"</td>\n",
              "      <td>abortion</td>\n",
              "      <td>moveon</td>\n",
              "      <td>NaN</td>\n",
              "      <td>NaN</td>\n",
              "      <td>democrat</td>\n",
              "      <td>2</td>\n",
              "      <td>4</td>\n",
              "      <td>3</td>\n",
              "      <td>0</td>\n",
              "      <td>0</td>\n",
              "      <td>an e-mail message</td>\n",
              "    </tr>\n",
              "    <tr>\n",
              "      <th>1</th>\n",
              "      <td>1156</td>\n",
              "      <td>10379.json</td>\n",
              "      <td>barely-true</td>\n",
              "      <td>The name Frank has risen in popularity by 20 p...</td>\n",
              "      <td>pop-culture</td>\n",
              "      <td>matt-lauer</td>\n",
              "      <td>Today Show host</td>\n",
              "      <td>NaN</td>\n",
              "      <td>none</td>\n",
              "      <td>1</td>\n",
              "      <td>0</td>\n",
              "      <td>0</td>\n",
              "      <td>0</td>\n",
              "      <td>0</td>\n",
              "      <td>a red carpet interview before the Golden Globes</td>\n",
              "    </tr>\n",
              "    <tr>\n",
              "      <th>2</th>\n",
              "      <td>5306</td>\n",
              "      <td>12759.json</td>\n",
              "      <td>pants-fire</td>\n",
              "      <td>Says Ted Cruz never denied his father was phot...</td>\n",
              "      <td>candidates-biography,crime,history</td>\n",
              "      <td>donald-trump</td>\n",
              "      <td>President-Elect</td>\n",
              "      <td>New York</td>\n",
              "      <td>republican</td>\n",
              "      <td>63</td>\n",
              "      <td>114</td>\n",
              "      <td>51</td>\n",
              "      <td>37</td>\n",
              "      <td>61</td>\n",
              "      <td>a campaign rally in Cleveland</td>\n",
              "    </tr>\n",
              "    <tr>\n",
              "      <th>3</th>\n",
              "      <td>9463</td>\n",
              "      <td>8896.json</td>\n",
              "      <td>true</td>\n",
              "      <td>Its been 14 years since a president or a vice ...</td>\n",
              "      <td>sports</td>\n",
              "      <td>candy-crowley</td>\n",
              "      <td>CNN host</td>\n",
              "      <td>NaN</td>\n",
              "      <td>none</td>\n",
              "      <td>0</td>\n",
              "      <td>0</td>\n",
              "      <td>0</td>\n",
              "      <td>0</td>\n",
              "      <td>0</td>\n",
              "      <td>comments on CNN's \"State of the Union\"</td>\n",
              "    </tr>\n",
              "    <tr>\n",
              "      <th>4</th>\n",
              "      <td>3638</td>\n",
              "      <td>11241.json</td>\n",
              "      <td>half-true</td>\n",
              "      <td>In the year 2013, the Obama administration rel...</td>\n",
              "      <td>crime,criminal-justice,immigration</td>\n",
              "      <td>ted-cruz</td>\n",
              "      <td>Senator</td>\n",
              "      <td>Texas</td>\n",
              "      <td>republican</td>\n",
              "      <td>36</td>\n",
              "      <td>33</td>\n",
              "      <td>15</td>\n",
              "      <td>19</td>\n",
              "      <td>8</td>\n",
              "      <td>answering a reporter in Iowa</td>\n",
              "    </tr>\n",
              "  </tbody>\n",
              "</table>\n",
              "</div>"
            ],
            "text/plain": [
              "   index  ...                                          context\n",
              "0   8289  ...                                an e-mail message\n",
              "1   1156  ...  a red carpet interview before the Golden Globes\n",
              "2   5306  ...                    a campaign rally in Cleveland\n",
              "3   9463  ...           comments on CNN's \"State of the Union\"\n",
              "4   3638  ...                     answering a reporter in Iowa\n",
              "\n",
              "[5 rows x 15 columns]"
            ]
          },
          "metadata": {
            "tags": []
          },
          "execution_count": 78
        }
      ]
    },
    {
      "cell_type": "markdown",
      "metadata": {
        "id": "9CpI--mhtT3P"
      },
      "source": [
        "#printing the first 15 statement by speaker in list form the csv file"
      ]
    },
    {
      "cell_type": "code",
      "metadata": {
        "colab": {
          "base_uri": "https://localhost:8080/"
        },
        "id": "yVNHh9g6eSdx",
        "outputId": "c5aabe01-7fe3-4be9-eda2-e808e77e4cbc"
      },
      "source": [
        "# some of the statements\n",
        "raw_dataframe['statement'].head(15).tolist()"
      ],
      "execution_count": 79,
      "outputs": [
        {
          "output_type": "execute_result",
          "data": {
            "text/plain": [
              "['\"McCain opposes a woman\\'s right to choose.\"',\n",
              " 'The name Frank has risen in popularity by 20 percent since the debut of House of Cardson Netflix.',\n",
              " 'Says Ted Cruz never denied his father was photographedwith Lee Harvey Oswald.',\n",
              " 'Its been 14 years since a president or a vice president or a member of their family has not gone and attended at least an event at the Olympics.',\n",
              " 'In the year 2013, the Obama administration released 104,000 criminal illegal aliens. They released 196 murderers people with homicide convictions, who are here illegally.',\n",
              " 'Says the United States does not trade as much as other developed nations.',\n",
              " '\"Oil companies ...currently have 68-million acres that they\\'re not using.\"',\n",
              " 'Says 24 million people in this country cant find a full-time job, 50 million cant see a doctor when theyre sick, 47 million people need government help to feed themselves and 15 million families owe more than the value of their home.',\n",
              " 'President Obama went around the world and apologized for America.',\n",
              " '\"Joe Biden is the only candidate with a plan to get us out of Iraq and keep us out.\"',\n",
              " 'Says nearly 29,000 Oregonians almost 5 percent of all homeowners are 90 days or more delinquent on their mortgage.',\n",
              " 'By a two-to-one margin, Rhode Islanders want to ban assault weapons and we have a very small percentage of gun owners in this state, less than 13 percent.',\n",
              " 'The new health care law crushes small businesses with billions in penalties.',\n",
              " 'Says Gov. Scott Walker is cooking the books by releasing numbers he just dreamed up that show Wisconsin gained jobs in 2011.',\n",
              " 'Says Barack Obama had huge majorities in Congress during his first two years in office and did nothing with them to create jobs in America.']"
            ]
          },
          "metadata": {
            "tags": []
          },
          "execution_count": 79
        }
      ]
    },
    {
      "cell_type": "code",
      "metadata": {
        "id": "FlRuq__VeSdy"
      },
      "source": [
        ""
      ],
      "execution_count": 79,
      "outputs": []
    },
    {
      "cell_type": "markdown",
      "metadata": {
        "id": "qtVQovoCeSdy"
      },
      "source": [
        "# Exploratory Data Analysis for to check the statement according to dataset\n"
      ]
    },
    {
      "cell_type": "code",
      "metadata": {
        "colab": {
          "base_uri": "https://localhost:8080/",
          "height": 312
        },
        "id": "phMzbWJaeSdz",
        "outputId": "9aa3b423-7e37-4a7b-d06a-314c54be2724"
      },
      "source": [
        "sns.countplot(x='label',data=raw_dataframe)\n",
        "plt.title('statement type and number of classes')"
      ],
      "execution_count": 80,
      "outputs": [
        {
          "output_type": "execute_result",
          "data": {
            "text/plain": [
              "Text(0.5, 1.0, 'statement type and number of classes')"
            ]
          },
          "metadata": {
            "tags": []
          },
          "execution_count": 80
        },
        {
          "output_type": "display_data",
          "data": {
            "image/png": "[encoded data removed]",
            "text/plain": [
              "<Figure size 432x288 with 1 Axes>"
            ]
          },
          "metadata": {
            "tags": [],
            "needs_background": "light"
          }
        }
      ]
    },
    {
      "cell_type": "markdown",
      "metadata": {
        "id": "0nDjBMjseSdz"
      },
      "source": [
        "### Converting multiclass labels to two classes - Fake and True for exploratory data analysis"
      ]
    },
    {
      "cell_type": "markdown",
      "metadata": {
        "id": "K4d_JRqJu0br"
      },
      "source": [
        "#function for mapping labels \"true, mostly-true, half-true\" to TRUE and \"false, barely-true, pants-fire\" to FAKE."
      ]
    },
    {
      "cell_type": "code",
      "metadata": {
        "id": "VX6UZck-eSd0"
      },
      "source": [
        "\n",
        "def binary_class_dataset(input):\n",
        "    \n",
        "    input = input.iloc[:, [2, 3]]\n",
        "    input.columns = ['label', 'statement']\n",
        "    Original_labels = {\n",
        "        'true': 'True',\n",
        "        'mostly-true': 'True',\n",
        "        'half-true': 'True',\n",
        "        'false': 'False',\n",
        "        'barely-true': 'False',\n",
        "        'pants-fire': 'False'\n",
        "    }\n",
        "    input['label'] = input['label'].map(Original_labels)\n",
        "\n",
        "    return input"
      ],
      "execution_count": 81,
      "outputs": []
    },
    {
      "cell_type": "markdown",
      "metadata": {
        "id": "wJQJ4NP9u5u5"
      },
      "source": [
        "# running the function on the loaded dataframe\n",
        "#and converting into newdataframe to use in the different models"
      ]
    },
    {
      "cell_type": "code",
      "metadata": {
        "id": "mARSRmNpeSd0"
      },
      "source": [
        "new_df= binary_class_dataset(raw_dataframe)"
      ],
      "execution_count": 82,
      "outputs": []
    },
    {
      "cell_type": "markdown",
      "metadata": {
        "id": "S-vK9X9IeSd1"
      },
      "source": [
        "## preparing Word Clouds for the text statements in the dataset\n",
        "# creating two dataset consisting of True and Fake statements seperately"
      ]
    },
    {
      "cell_type": "code",
      "metadata": {
        "id": "r1btsi2deSd2"
      },
      "source": [
        "\n",
        "np.random.seed(0)\n",
        "true_statements_dataset = new_df[new_df['label'].astype(str) == 'True']\n",
        "fake_statements_dataset = new_df[new_df['label'].astype(str) == 'False']"
      ],
      "execution_count": 83,
      "outputs": []
    },
    {
      "cell_type": "markdown",
      "metadata": {
        "id": "leOIP4sseSd4"
      },
      "source": [
        "### Exploring the 'speakers' who have given the statements in the LIAR dataset\n",
        "#finding the total number of unique 'speakers' in the LIAR"
      ]
    },
    {
      "cell_type": "code",
      "metadata": {
        "colab": {
          "base_uri": "https://localhost:8080/"
        },
        "id": "X9vxZdCNeSd4",
        "outputId": "7e9a2681-2f9a-4788-f9e5-d44f60f325ea"
      },
      "source": [
        "\n",
        "speakers_info = raw_dataframe.copy()\n",
        "speakers = speakers_info['speaker'].unique()\n",
        "\n",
        "print(\"Number of speakers in the Data is : %d  \" % len(speakers))\n",
        "print(\"Some top 10 speakers are:\\n\", speakers[:10].tolist())"
      ],
      "execution_count": 84,
      "outputs": [
        {
          "output_type": "stream",
          "text": [
            "Number of speakers in the Data is : 3318  \n",
            "Some top 10 speakers are:\n",
            " ['moveon', 'matt-lauer', 'donald-trump', 'candy-crowley', 'ted-cruz', 'rob-portman', 'barack-obama', 'alan-grayson', 'mitt-romney', 'joe-biden']\n"
          ],
          "name": "stdout"
        }
      ]
    },
    {
      "cell_type": "markdown",
      "metadata": {
        "id": "bAPZMApIxZ8B"
      },
      "source": [
        "#displaying all the speakers in exploratory plot will not be possible nor meaningful. Hence finding the top speakers who have made frequent statements"
      ]
    },
    {
      "cell_type": "code",
      "metadata": {
        "colab": {
          "base_uri": "https://localhost:8080/"
        },
        "id": "XOgEvlzveSd5",
        "outputId": "0747f206-4016-45ef-d9ac-bc9bbf069852"
      },
      "source": [
        "speakers_cts = speakers_info.groupby(\"speaker\").statement.count()\n",
        "# speakers who have made more than 100 statements.\n",
        "speakers = speakers_cts[speakers_cts > 100] \n",
        "print(\"The speaker have made  %d statements more than 50 times in the dataset\" % len(speakers))\n",
        "\n",
        "print(\"Some of the speakers and the number of statements made by them are:\\n\", speakers[:10])"
      ],
      "execution_count": 85,
      "outputs": [
        {
          "output_type": "stream",
          "text": [
            "The speaker have made  13 statements more than 50 times in the dataset\n",
            "Some of the speakers and the number of statements made by them are:\n",
            " speaker\n",
            "barack-obama       616\n",
            "bernie-s           107\n",
            "chain-email        178\n",
            "chris-christie     105\n",
            "donald-trump       344\n",
            "hillary-clinton    297\n",
            "john-mccain        189\n",
            "marco-rubio        153\n",
            "mitt-romney        216\n",
            "rick-perry         173\n",
            "Name: statement, dtype: int64\n"
          ],
          "name": "stdout"
        }
      ]
    },
    {
      "cell_type": "markdown",
      "metadata": {
        "id": "0KWsgciXx5pz"
      },
      "source": [
        "#Limiting ourselves to only prominent speakers for visualization"
      ]
    },
    {
      "cell_type": "code",
      "metadata": {
        "id": "qsoGr2TGeSd5"
      },
      "source": [
        "\n",
        "speakers_info = speakers_info[speakers_info['speaker'].isin(speakers.keys())]"
      ],
      "execution_count": 86,
      "outputs": []
    },
    {
      "cell_type": "markdown",
      "metadata": {
        "id": "kRU-iCzmyCQB"
      },
      "source": [
        "#function to groupby the speakers by the class and count of statements spoken individuals"
      ]
    },
    {
      "cell_type": "code",
      "metadata": {
        "id": "jtGgbICneSd6"
      },
      "source": [
        "def class_counts(input, column):\n",
        "    return input.groupby([column,\"label\"]).agg({\"ID\" : \"count\"})\n"
      ],
      "execution_count": 87,
      "outputs": []
    },
    {
      "cell_type": "markdown",
      "metadata": {
        "id": "VEC3utsCeSd6"
      },
      "source": [
        "#### Plot of top 13 speakers in the LIAR dataset labelled by class and count of statements they have given."
      ]
    },
    {
      "cell_type": "code",
      "metadata": {
        "colab": {
          "base_uri": "https://localhost:8080/",
          "height": 428
        },
        "id": "mMRqeys0eSd6",
        "outputId": "9850ea15-f050-407e-8ec6-61049f5dbf2c"
      },
      "source": [
        "# stacked bar plot of speakrs with class and count of statements\n",
        "breakdown = class_counts(speakers_info, 'speaker')\n",
        "breakdown.unstack().plot(kind='bar', stacked=True, figsize=(15,5))\n",
        "plt.title(\"Top 13 speakers in the LIAR dataset with count and class of statements made\")"
      ],
      "execution_count": 88,
      "outputs": [
        {
          "output_type": "execute_result",
          "data": {
            "text/plain": [
              "Text(0.5, 1.0, 'Top 13 speakers in the LIAR dataset with count and class of statements made')"
            ]
          },
          "metadata": {
            "tags": []
          },
          "execution_count": 88
        },
        {
          "output_type": "display_data",
          "data": {
            "image/png": "[encoded data removed]",
            "text/plain": [
              "<Figure size 1080x360 with 1 Axes>"
            ]
          },
          "metadata": {
            "tags": [],
            "needs_background": "light"
          }
        }
      ]
    },
    {
      "cell_type": "markdown",
      "metadata": {
        "id": "qAFqSqV9yTuW"
      },
      "source": [
        "# Normalising the statements and the speakers for comparison purpose\n"
      ]
    },
    {
      "cell_type": "code",
      "metadata": {
        "id": "Qk065d1aeSd7"
      },
      "source": [
        "\n",
        "def normalize(input, column):\n",
        "    norm = input.reset_index()\n",
        "    norm = norm.set_index([column,'label'])['ID'].unstack(fill_value=0)\n",
        "\n",
        "    row_totals = norm.sum(axis=1)\n",
        "    for row in range(len(norm.index)):\n",
        "        norm.iloc[row]/= row_totals[row]\n",
        "\n",
        "    norm = norm.stack().reset_index(name='Percent').set_index([column, 'label'])\n",
        "    return norm"
      ],
      "execution_count": 89,
      "outputs": []
    },
    {
      "cell_type": "markdown",
      "metadata": {
        "id": "kRM__J-eeSd7"
      },
      "source": [
        "#### Normalised plot of top 13 speakers in the LIAR dataset labelled type of statements they have given (for comparison)"
      ]
    },
    {
      "cell_type": "code",
      "metadata": {
        "colab": {
          "base_uri": "https://localhost:8080/",
          "height": 428
        },
        "id": "jX3i2iMVeSd7",
        "outputId": "87b3d6c1-7d01-44cc-807a-14dbf45127fa"
      },
      "source": [
        "unifrom_data = normalize(breakdown, 'speaker')\n",
        "unifrom_data.unstack().plot(kind='bar', stacked=True, figsize=(15,5))\n",
        "plt.title(\"Top 13 speakers in the LIAR dataset with count and class of statements made by them\")"
      ],
      "execution_count": 90,
      "outputs": [
        {
          "output_type": "execute_result",
          "data": {
            "text/plain": [
              "Text(0.5, 1.0, 'Top 13 speakers in the LIAR dataset with count and class of statements made by them')"
            ]
          },
          "metadata": {
            "tags": []
          },
          "execution_count": 90
        },
        {
          "output_type": "display_data",
          "data": {
            "image/png": "[encoded data removed]",
            "text/plain": [
              "<Figure size 1080x360 with 1 Axes>"
            ]
          },
          "metadata": {
            "tags": [],
            "needs_background": "light"
          }
        }
      ]
    },
    {
      "cell_type": "markdown",
      "metadata": {
        "id": "VKFCTDjheSd8"
      },
      "source": [
        "In comparison to other speakers, Facebook postings, Chain emails, and Donald Trump have a larger number of 'pant on fire' false claims. We should also observe that, despite making the most remarks, Obama's pant-on-fire utterances are practically non-existent."
      ]
    },
    {
      "cell_type": "markdown",
      "metadata": {
        "id": "-8wBf-FSeSd9"
      },
      "source": [
        "# Using CountVectorizer for Extracting features from 'statements' in LIAR dataset"
      ]
    },
    {
      "cell_type": "code",
      "metadata": {
        "id": "tSILn6A9eSd-"
      },
      "source": [
        "# specifying features and labels\n",
        "X_data= raw_dataframe['statement']\n",
        "y_data=raw_dataframe['label']"
      ],
      "execution_count": 91,
      "outputs": []
    },
    {
      "cell_type": "markdown",
      "metadata": {
        "id": "Dc-fl0fb0lkP"
      },
      "source": [
        "# specifying train and test split with ratio of 70:30"
      ]
    },
    {
      "cell_type": "code",
      "metadata": {
        "id": "L5BY2-MyeSd-"
      },
      "source": [
        "\n",
        "X_train, X_test, y_train, y_test = train_test_split(X_data,y_data, test_size=0.3, stratify=y_data)\n"
      ],
      "execution_count": 92,
      "outputs": []
    },
    {
      "cell_type": "markdown",
      "metadata": {
        "id": "AW84ODFBeSd_"
      },
      "source": [
        "###creating Custom Pre - Processing and Tokenisation of the data\n",
        "\n",
        "\n",
        "---\n",
        "\n",
        "\n",
        "# Regular expression for cleaning the statements\n",
        "\n",
        "\n",
        "---\n",
        "\n",
        "#Preprocessing the text in the statements\n",
        "\n",
        "\n",
        "---\n",
        "#regular expression for custom tokenisation\n",
        "\n",
        "\n",
        "---\n",
        "\n",
        "\n",
        "\n"
      ]
    },
    {
      "cell_type": "code",
      "metadata": {
        "id": "JXUyvXdNeSd_"
      },
      "source": [
        "hashtag_removal = re.compile(r\"#\\w+\")\n",
        "mention_removal = re.compile(r\"@\\w+\")\n",
        "url_removal = re.compile(r\"(?:https?://)?(?:[-\\w]+\\.)+[a-zA-Z]{2,9}[-\\w/#~:;.?+=&%@~]*\")\n",
        "extras_removal = re.compile(\"[.;:!\\'?,\\\"()\\[\\]]\")\n",
        "\n",
        "def preprocess(writeup):\n",
        "    processing_text = hashtag_removal.sub(\"[hashtag]\",writeup)\n",
        "    processing_text = mention_removal.sub(\"[mention]\",processing_text)\n",
        "    processing_text = extras_removal.sub(\"\",processing_text)\n",
        "    processing_text = url_removal.sub(\"[url]\",processing_text)\n",
        "    processing_text = ftfy.fix_text(processing_text)\n",
        "    return processing_text.lower()"
      ],
      "execution_count": 93,
      "outputs": []
    },
    {
      "cell_type": "markdown",
      "metadata": {
        "id": "LiuE2dyg2LUl"
      },
      "source": [
        "#([]|words|other non-space)\n",
        "\n",
        "\n",
        "---\n",
        "\n",
        "\n",
        "# defining 3 types of tokenisation"
      ]
    },
    {
      "cell_type": "code",
      "metadata": {
        "id": "uek0YMRH2Ih_"
      },
      "source": [
        "tokenise_removal = re.compile(r\"(\\[[^\\]]+\\]|[-'\\w]+|[^\\s\\w\\[']+)\") \n",
        "def custom_tokenise(writeup):\n",
        "    return tokenise_removal.findall(text.lower())\n",
        "\n",
        "def Tokenizer(string_input):\n",
        "    words = re.sub(r\"[^A-Za-z0-9\\-]\", \" \", string_input).lower().split()\n",
        "    port_stemmer=nltk.PorterStemmer()\n",
        "    words = [port_stemmer.stem(word) for word in words]\n",
        "    return words\n",
        "\n",
        "def nltk_twitter_tokenise(text):\n",
        "    twitter_token = nltk.tokenize.TweetTokenizer()\n",
        "    return twitter_token.tokenize(text.lower())"
      ],
      "execution_count": 94,
      "outputs": []
    },
    {
      "cell_type": "markdown",
      "metadata": {
        "id": "kzfMwdZE2Y5s"
      },
      "source": [
        "# stop words list set to english"
      ]
    },
    {
      "cell_type": "code",
      "metadata": {
        "id": "RkCK7Bt82cIe"
      },
      "source": [
        "tostop_list = stopwords.words('english') # stop word list"
      ],
      "execution_count": 95,
      "outputs": []
    },
    {
      "cell_type": "markdown",
      "metadata": {
        "id": "e_1sJFi9eSd_"
      },
      "source": [
        "### Defining custom functions for displaying results of Classification"
      ]
    },
    {
      "cell_type": "code",
      "metadata": {
        "id": "C1GjVIBVeSeA"
      },
      "source": [
        "# function for results of cross-validation\n",
        "def displaying_scores_summary(name, scores):\n",
        "    print(\"{}: mean = {:.2f}%, sd = {:.2f}%, min = {:.2f}, max = {:.2f}\".format(name, scores.mean()*100, scores.std()*100, scores.min()*100, scores.max()*100))\n",
        "\n",
        "\n",
        "# fucntion for results of model fitting\n",
        "def result_display():\n",
        "    print(\"Accuracy: \", accuracy_score(y_test, analysis_output))\n",
        "    print(classification_report(y_test, analysis_output))\n",
        "    print(confusion_matrix(y_test, analysis_output))\n",
        "    \n"
      ],
      "execution_count": 96,
      "outputs": []
    },
    {
      "cell_type": "markdown",
      "metadata": {
        "id": "BjnBvSGPeSeB"
      },
      "source": [
        "#### When documents are shorts as 'statements' in LIAR datasets, using Binarizer for normalisation instead of Tfidf Transformer (i.e. scale to 0 for not present or 1 for presence at any frequency) is beneficial."
      ]
    },
    {
      "cell_type": "code",
      "metadata": {
        "id": "PpMUPtPUeSeB",
        "colab": {
          "base_uri": "https://localhost:8080/"
        },
        "outputId": "4529cb06-d89f-4533-b94e-983c2703718c"
      },
      "source": [
        "\n",
        "model = Pipeline([\n",
        "    ('vectorizer', CountVectorizer(analyzer='word',preprocessor=preprocess,tokenizer=Tokenizer,stop_words=tostop_list)),\n",
        "    ('norm', Binarizer()),\n",
        "    ('clf', LogisticRegression(solver='liblinear', random_state=0)),\n",
        "])\n",
        "model.fit(X_train, y_train)\n",
        "analysis_output = model.predict(X_test)\n",
        "result_display()\n"
      ],
      "execution_count": 97,
      "outputs": [
        {
          "output_type": "stream",
          "text": [
            "Accuracy:  0.23863931446377565\n",
            "              precision    recall  f1-score   support\n",
            "\n",
            " barely-true       0.23      0.22      0.22       632\n",
            "       false       0.25      0.30      0.27       753\n",
            "   half-true       0.25      0.26      0.25       792\n",
            " mostly-true       0.23      0.24      0.23       740\n",
            "  pants-fire       0.24      0.13      0.17       315\n",
            "        true       0.23      0.21      0.22       619\n",
            "\n",
            "    accuracy                           0.24      3851\n",
            "   macro avg       0.24      0.23      0.23      3851\n",
            "weighted avg       0.24      0.24      0.24      3851\n",
            "\n",
            "[[137 151 135 105  27  77]\n",
            " [119 228 139 125  43  99]\n",
            " [116 153 203 178  27 115]\n",
            " [105 154 159 178  13 131]\n",
            " [ 54  94  55  44  41  27]\n",
            " [ 58 126 132 153  18 132]]\n"
          ],
          "name": "stdout"
        }
      ]
    },
    {
      "cell_type": "code",
      "metadata": {
        "id": "kBk_nXDw9XwT"
      },
      "source": [
        ""
      ],
      "execution_count": 97,
      "outputs": []
    },
    {
      "cell_type": "code",
      "metadata": {
        "id": "FYVb4wUFeSeC"
      },
      "source": [
        "# code to view the selected features\n",
        "vectorizer = CountVectorizer(analyzer='word')\n",
        "selector = SelectKBest(chi2, k=100)\n",
        "feats = vectorizer.fit_transform(X_train)\n",
        "filtered = selector.fit_transform(feats, y_train)"
      ],
      "execution_count": 98,
      "outputs": []
    },
    {
      "cell_type": "code",
      "metadata": {
        "id": "_0odyPpqeSeC",
        "colab": {
          "base_uri": "https://localhost:8080/"
        },
        "outputId": "4e32e10e-7a3c-4c2b-8795-662c8e81673d"
      },
      "source": [
        "from itertools import compress\n",
        "cols = selector.get_support()\n",
        "names = vectorizer.get_feature_names()\n",
        "\n",
        "print(list(compress(names,cols)))"
      ],
      "execution_count": 99,
      "outputs": [
        {
          "output_type": "stream",
          "text": [
            "['000', '247', 'acted', 'allah', 'and', 'average', 'barack', 'because', 'beliefs', 'benghazi', 'blumenauer', 'bomb', 'boxes', 'boy', 'bulbs', 'care', 'ceremonies', 'college', 'colorado', 'conspiracy', 'creflo', 'cut', 'debt', 'debunked', 'dee', 'duffy', 'earl', 'execution', 'exempted', 'face', 'fear', 'georgia', 'half', 'harvey', 'haslam', 'hillary', 'hip', 'in', 'institution', 'jersey', 'jobs', 'kathy', 'kloppenburgs', 'landrieu', 'last', 'less', 'lowest', 'lying', 'mccain', 'meat', 'million', 'more', 'mormon', 'muslim', 'muslims', 'nose', 'obama', 'obamacare', 'obamas', 'of', 'ops', 'oswald', 'percent', 'photographed', 'plan', 'president', 'protein', 'put', 'radar', 'rate', 'ration', 'rep', 'reps', 'retiree', 'riot', 'rugs', 'says', 'scheme', 'sean', 'sharia', 'sic', 'since', 'socialists', 'society', 'sporting', 'states', 'takeover', 'than', 'the', 'three', 'to', 'today', 'transactions', 'unelected', 'walker', 'wash', 'wic', 'will', 'year', 'your']\n"
          ],
          "name": "stdout"
        }
      ]
    },
    {
      "cell_type": "code",
      "metadata": {
        "colab": {
          "base_uri": "https://localhost:8080/"
        },
        "id": "-rxs7xT_eSeC",
        "outputId": "408665f4-340c-491a-cbde-452063f76525"
      },
      "source": [
        "# Using Multinomial Naive Bayes classifier\n",
        "model.set_params(clf=MultinomialNB())\n",
        "model.fit(X_train, y_train)\n",
        "analysis_output = model.predict(X_test)\n",
        "result_display()"
      ],
      "execution_count": 100,
      "outputs": [
        {
          "output_type": "stream",
          "text": [
            "Accuracy:  0.25292131913788624\n",
            "              precision    recall  f1-score   support\n",
            "\n",
            " barely-true       0.24      0.20      0.22       632\n",
            "       false       0.25      0.27      0.26       753\n",
            "   half-true       0.25      0.36      0.29       792\n",
            " mostly-true       0.25      0.31      0.28       740\n",
            "  pants-fire       0.36      0.08      0.13       315\n",
            "        true       0.28      0.17      0.21       619\n",
            "\n",
            "    accuracy                           0.25      3851\n",
            "   macro avg       0.27      0.23      0.23      3851\n",
            "weighted avg       0.26      0.25      0.24      3851\n",
            "\n",
            "[[127 149 186 115   9  46]\n",
            " [120 207 193 156  16  61]\n",
            " [104 141 283 189   9  66]\n",
            " [ 75 127 230 228   5  75]\n",
            " [ 53  99  69  46  25  23]\n",
            " [ 47 117 183 163   5 104]]\n"
          ],
          "name": "stdout"
        }
      ]
    },
    {
      "cell_type": "code",
      "metadata": {
        "colab": {
          "base_uri": "https://localhost:8080/"
        },
        "id": "uLvuFzJGeSeC",
        "outputId": "e3890d86-5410-496f-f0ec-6f9b7bc2cead"
      },
      "source": [
        "# Fitting C-Support Vector Classifier\n",
        "model.set_params(clf=svm.SVC(C=1.0, kernel='linear', degree=3, gamma='auto',random_state=1000))\n",
        "model.fit(X_train, y_train)\n",
        "analysis_output = model.predict(X_test)\n",
        "result_display()"
      ],
      "execution_count": 101,
      "outputs": [
        {
          "output_type": "stream",
          "text": [
            "Accuracy:  0.2339652038431576\n",
            "              precision    recall  f1-score   support\n",
            "\n",
            " barely-true       0.22      0.27      0.24       632\n",
            "       false       0.24      0.29      0.26       753\n",
            "   half-true       0.26      0.25      0.26       792\n",
            " mostly-true       0.24      0.21      0.22       740\n",
            "  pants-fire       0.22      0.17      0.19       315\n",
            "        true       0.21      0.17      0.18       619\n",
            "\n",
            "    accuracy                           0.23      3851\n",
            "   macro avg       0.23      0.23      0.23      3851\n",
            "weighted avg       0.23      0.23      0.23      3851\n",
            "\n",
            "[[173 158 117  76  43  65]\n",
            " [167 218 133 112  44  79]\n",
            " [156 148 200 140  38 110]\n",
            " [118 159 163 154  31 115]\n",
            " [ 73  85  42  38  53  24]\n",
            " [101 145 108 133  29 103]]\n"
          ],
          "name": "stdout"
        }
      ]
    },
    {
      "cell_type": "code",
      "metadata": {
        "colab": {
          "base_uri": "https://localhost:8080/"
        },
        "id": "X8wNx9CheSeD",
        "outputId": "c48da2c9-8393-429f-966c-f8a50479f6eb"
      },
      "source": [
        "# fitting Random forest classifier\n",
        "model.set_params(clf=RandomForestClassifier(random_state=1000))\n",
        "model.fit(X_train, y_train)\n",
        "analysis_output = model.predict(X_test)\n",
        "result_display()"
      ],
      "execution_count": 102,
      "outputs": [
        {
          "output_type": "stream",
          "text": [
            "Accuracy:  0.24876655414178137\n",
            "              precision    recall  f1-score   support\n",
            "\n",
            " barely-true       0.22      0.16      0.18       632\n",
            "       false       0.25      0.44      0.31       753\n",
            "   half-true       0.25      0.24      0.24       792\n",
            " mostly-true       0.25      0.30      0.27       740\n",
            "  pants-fire       0.43      0.09      0.14       315\n",
            "        true       0.26      0.16      0.20       619\n",
            "\n",
            "    accuracy                           0.25      3851\n",
            "   macro avg       0.28      0.23      0.22      3851\n",
            "weighted avg       0.26      0.25      0.24      3851\n",
            "\n",
            "[[ 98 232 125 130   6  41]\n",
            " [ 87 329 135 132  13  57]\n",
            " [ 94 239 187 195   8  69]\n",
            " [ 53 210 159 220   6  92]\n",
            " [ 47 140  48  36  27  17]\n",
            " [ 57 187 106 169   3  97]]\n"
          ],
          "name": "stdout"
        }
      ]
    },
    {
      "cell_type": "markdown",
      "metadata": {
        "id": "ee2FvpdTeSeI"
      },
      "source": [
        "## Creating Pipeline with TFID Vectorizer along with Feature Union of 'total words' in the 'statements'\n"
      ]
    },
    {
      "cell_type": "markdown",
      "metadata": {
        "id": "O5kX75raeSeI"
      },
      "source": [
        "Term Frequency — Inverse Document is abbreviated as TF-IDF. Term Frequency is a measure of how frequently a term appears in a document. Words that appear often across documents are scaled using Inverse Document Frequency. TF-IDF highlights words that are more intriguing, such as those that appear often in one document but not in others."
      ]
    },
    {
      "cell_type": "markdown",
      "metadata": {
        "id": "J4TnlqwQeSeI"
      },
      "source": [
        "However in this instance we use feature union as well by incorporating the total words in each sentence as another feature. We build a custom transformer with two classes for features in the statements and the total number of words in the statements. By setting min\\_df to 0.25 and max\\_df to 0.75 we restrict the terms in the vocabulary based on document frequency"
      ]
    },
    {
      "cell_type": "code",
      "metadata": {
        "id": "wrfpH_SveSeJ"
      },
      "source": [
        "\n",
        "class TextSelector(BaseEstimator, TransformerMixin):\n",
        "    def __init__(self, field):\n",
        "        self.field = field\n",
        "    def fit(self, X, y=None):\n",
        "        return self\n",
        "    def transform(self, X):\n",
        "        return X[self.field]\n",
        "class NumberSelector(BaseEstimator, TransformerMixin):\n",
        "    def __init__(self, field):\n",
        "        self.field = field\n",
        "    def fit(self, X, y=None):\n",
        "        return self\n",
        "    def transform(self, X):\n",
        "        return X[[self.field]]"
      ],
      "execution_count": 103,
      "outputs": []
    },
    {
      "cell_type": "code",
      "metadata": {
        "id": "LxgAIFUJeSeJ"
      },
      "source": [
        "raw_dataframe_tfid= raw_dataframe.copy()"
      ],
      "execution_count": 104,
      "outputs": []
    },
    {
      "cell_type": "code",
      "metadata": {
        "id": "PXa-EGhEeSeJ"
      },
      "source": [
        "header_list=[\"index\",\"ID\", \"label\", \"statement\",\"TotalWords\",\"Lemmatised_words\", \"subject\", \"speaker\", \"job\", \"state\", \"party\", \"barely_true_cts\",\n",
        "        \"false_cts\", \"half_true_cts\", \"mostly_true_cts\", \"pants_on_fire_cts\", \"context\"]\n",
        "raw_dataframe_tfid = raw_dataframe_tfid.reindex(columns = header_list) "
      ],
      "execution_count": 105,
      "outputs": []
    },
    {
      "cell_type": "markdown",
      "metadata": {
        "id": "UD618S0P36uP"
      },
      "source": [
        "# creating new column to hold total number of words in the statements and calculating the total words"
      ]
    },
    {
      "cell_type": "code",
      "metadata": {
        "id": "2QfH7Nf-eSeJ"
      },
      "source": [
        "raw_dataframe_tfid['TotalWords'] = raw_dataframe_tfid['statement'].str.split().str.len()"
      ],
      "execution_count": 106,
      "outputs": []
    },
    {
      "cell_type": "code",
      "metadata": {
        "id": "fInRQBm_eSeK"
      },
      "source": [
        "X = raw_dataframe_tfid[['statement', 'TotalWords']]\n",
        "\n",
        "Y = raw_dataframe_tfid['label']"
      ],
      "execution_count": 107,
      "outputs": []
    },
    {
      "cell_type": "code",
      "metadata": {
        "id": "dEZEsJt6eSeK"
      },
      "source": [
        "X_train, X_test, y_train, y_test = train_test_split(X, Y, test_size=0.3)"
      ],
      "execution_count": 108,
      "outputs": []
    },
    {
      "cell_type": "markdown",
      "metadata": {
        "id": "P2MaD_nneSeK"
      },
      "source": [
        "## Creating the pipeline with TFIDVectorizer and feature union of total words in statements"
      ]
    },
    {
      "cell_type": "code",
      "metadata": {
        "id": "1Z_RgLR7eSeK"
      },
      "source": [
        "classifier = Pipeline([\n",
        "    ('features', FeatureUnion([\n",
        "        ('text', Pipeline([\n",
        "            ('colext', TextSelector('statement')),\n",
        "            ('tfidf', TfidfVectorizer(analyzer='word',preprocessor=preprocess, tokenizer=Tokenizer, stop_words=tostop_list,\n",
        "                     min_df=.0025, max_df=0.25, ngram_range=(1,3))),\n",
        "            ('svd', TruncatedSVD(algorithm='randomized', n_components=300)), #for XGB\n",
        "        ])),\n",
        "        ('words', Pipeline([\n",
        "            ('wordext', NumberSelector('TotalWords')),\n",
        "            ('wscaler', StandardScaler()),\n",
        "        ])),\n",
        "    ])),\n",
        "    ('clf', LogisticRegression(solver='liblinear', random_state=0)),\n",
        "    ])\n",
        "\n"
      ],
      "execution_count": 109,
      "outputs": []
    },
    {
      "cell_type": "markdown",
      "metadata": {
        "id": "8j4i78PO5w9g"
      },
      "source": [
        "# logistic regression"
      ]
    },
    {
      "cell_type": "code",
      "metadata": {
        "colab": {
          "base_uri": "https://localhost:8080/"
        },
        "id": "7r6u7_SieSeK",
        "outputId": "4fb8fb30-6294-44c4-f696-335d57262115"
      },
      "source": [
        "classifier.fit(X_train, y_train)\n",
        "analysis_output = classifier.predict(X_test)\n",
        "result_display()\n",
        "\n"
      ],
      "execution_count": 110,
      "outputs": [
        {
          "output_type": "stream",
          "text": [
            "Accuracy:  0.24175538821085432\n",
            "              precision    recall  f1-score   support\n",
            "\n",
            " barely-true       0.21      0.18      0.20       611\n",
            "       false       0.26      0.36      0.30       772\n",
            "   half-true       0.23      0.26      0.25       823\n",
            " mostly-true       0.24      0.28      0.26       723\n",
            "  pants-fire       0.27      0.05      0.08       301\n",
            "        true       0.25      0.18      0.21       621\n",
            "\n",
            "    accuracy                           0.24      3851\n",
            "   macro avg       0.24      0.22      0.22      3851\n",
            "weighted avg       0.24      0.24      0.23      3851\n",
            "\n",
            "[[112 177 153 105  10  54]\n",
            " [127 275 169 131  12  58]\n",
            " [110 186 217 205   7  98]\n",
            " [ 68 156 191 203   4 101]\n",
            " [ 47 120  60  41  15  18]\n",
            " [ 61 146 139 158   8 109]]\n"
          ],
          "name": "stdout"
        }
      ]
    },
    {
      "cell_type": "markdown",
      "metadata": {
        "id": "CFe5Natk7CyQ"
      },
      "source": [
        "#multinominal naive bayes fit and using gaussianNB"
      ]
    },
    {
      "cell_type": "code",
      "metadata": {
        "colab": {
          "base_uri": "https://localhost:8080/"
        },
        "id": "hMUs1WFjeSeL",
        "outputId": "f74cc0dc-f6f4-4abf-92d6-49959b88d17d"
      },
      "source": [
        "\n",
        "classifier.set_params(clf=GaussianNB())\n",
        "classifier.fit(X_train, y_train)\n",
        "analysis_output = classifier.predict(X_test)\n",
        "result_display()"
      ],
      "execution_count": 111,
      "outputs": [
        {
          "output_type": "stream",
          "text": [
            "Accuracy:  0.2100753051155544\n",
            "              precision    recall  f1-score   support\n",
            "\n",
            " barely-true       0.21      0.15      0.17       611\n",
            "       false       0.24      0.33      0.28       772\n",
            "   half-true       0.27      0.15      0.19       823\n",
            " mostly-true       0.21      0.22      0.21       723\n",
            "  pants-fire       0.12      0.22      0.15       301\n",
            "        true       0.20      0.19      0.19       621\n",
            "\n",
            "    accuracy                           0.21      3851\n",
            "   macro avg       0.21      0.21      0.20      3851\n",
            "weighted avg       0.22      0.21      0.21      3851\n",
            "\n",
            "[[ 89 165  66 117  95  79]\n",
            " [ 87 257  81 118 133  96]\n",
            " [ 89 201 125 166 118 124]\n",
            " [ 54 204  92 157  75 141]\n",
            " [ 41  95  34  39  66  26]\n",
            " [ 58 160  73 143  72 115]]\n"
          ],
          "name": "stdout"
        }
      ]
    },
    {
      "cell_type": "markdown",
      "metadata": {
        "id": "x1kj6hn97bTI"
      },
      "source": [
        "#SVM Support vector machine"
      ]
    },
    {
      "cell_type": "code",
      "metadata": {
        "colab": {
          "base_uri": "https://localhost:8080/"
        },
        "id": "kxLmwvnKeSeL",
        "outputId": "f6e45ca8-60ce-4b0b-cbc5-485d85694d63"
      },
      "source": [
        "classifier.set_params(clf=svm.SVC(C=1.0, kernel='linear', degree=3, gamma='auto',random_state=1000))\n",
        "classifier.fit(X_train, y_train)\n",
        "analysis_output = classifier.predict(X_test)\n",
        "result_display()"
      ],
      "execution_count": 112,
      "outputs": [
        {
          "output_type": "stream",
          "text": [
            "Accuracy:  0.2388989872760322\n",
            "              precision    recall  f1-score   support\n",
            "\n",
            " barely-true       0.20      0.17      0.18       611\n",
            "       false       0.26      0.39      0.31       772\n",
            "   half-true       0.23      0.27      0.25       823\n",
            " mostly-true       0.24      0.29      0.26       723\n",
            "  pants-fire       1.00      0.00      0.01       301\n",
            "        true       0.25      0.14      0.18       621\n",
            "\n",
            "    accuracy                           0.24      3851\n",
            "   macro avg       0.36      0.21      0.20      3851\n",
            "weighted avg       0.30      0.24      0.22      3851\n",
            "\n",
            "[[104 188 165 115   0  39]\n",
            " [122 298 168 135   0  49]\n",
            " [107 203 225 213   0  75]\n",
            " [ 72 168 198 207   0  78]\n",
            " [ 51 137  69  32   1  11]\n",
            " [ 61 157 150 168   0  85]]\n"
          ],
          "name": "stdout"
        }
      ]
    },
    {
      "cell_type": "markdown",
      "metadata": {
        "id": "pDWLRgFO8HY5"
      },
      "source": [
        "#Random Forest"
      ]
    },
    {
      "cell_type": "code",
      "metadata": {
        "colab": {
          "base_uri": "https://localhost:8080/"
        },
        "id": "M9XP0ye3eSeM",
        "outputId": "270b5f8e-b824-4887-9596-769739198f31"
      },
      "source": [
        "classifier.set_params(clf=RandomForestClassifier(random_state=1000))\n",
        "classifier.fit(X_train, y_train)\n",
        "analysis_output = classifier.predict(X_test)\n",
        "result_display()"
      ],
      "execution_count": 113,
      "outputs": [
        {
          "output_type": "stream",
          "text": [
            "Accuracy:  0.22305894572838225\n",
            "              precision    recall  f1-score   support\n",
            "\n",
            " barely-true       0.20      0.16      0.18       611\n",
            "       false       0.24      0.34      0.28       772\n",
            "   half-true       0.22      0.28      0.24       823\n",
            " mostly-true       0.22      0.27      0.24       723\n",
            "  pants-fire       0.18      0.01      0.02       301\n",
            "        true       0.25      0.12      0.16       621\n",
            "\n",
            "    accuracy                           0.22      3851\n",
            "   macro avg       0.22      0.20      0.19      3851\n",
            "weighted avg       0.22      0.22      0.21      3851\n",
            "\n",
            "[[ 97 171 177 128   4  34]\n",
            " [105 259 221 128   6  53]\n",
            " [105 216 233 218   1  50]\n",
            " [ 73 161 224 193   2  70]\n",
            " [ 43 107  72  57   3  19]\n",
            " [ 53 168 156 169   1  74]]\n"
          ],
          "name": "stdout"
        }
      ]
    },
    {
      "cell_type": "code",
      "metadata": {
        "id": "t_tzk_QdeSeM"
      },
      "source": [
        ""
      ],
      "execution_count": 113,
      "outputs": []
    },
    {
      "cell_type": "markdown",
      "metadata": {
        "id": "cyGfOlX2eSeM"
      },
      "source": [
        "## Using char_wb for the TFIDVectorizer and features union"
      ]
    },
    {
      "cell_type": "code",
      "metadata": {
        "id": "27h98NwZeSeM"
      },
      "source": [
        "classifier_char_wb = Pipeline([\n",
        "    ('features', FeatureUnion([\n",
        "        ('text', Pipeline([\n",
        "            ('colext', TextSelector('statement')),\n",
        "            ('tfidf', TfidfVectorizer(analyzer='char_wb',preprocessor=preprocess, tokenizer=Tokenizer, stop_words=tostop_list,\n",
        "                     min_df=.0025, max_df=0.25, ngram_range=(1,3))),\n",
        "            ('svd', TruncatedSVD(algorithm='randomized', n_components=300)), #for XGB\n",
        "        ])),\n",
        "        ('words', Pipeline([\n",
        "            ('wordext', NumberSelector('TotalWords')),\n",
        "            ('wscaler', StandardScaler()),\n",
        "        ])),\n",
        "    ])),\n",
        "    ('clf', LogisticRegression(solver='liblinear', random_state=1000)),\n",
        "    ])"
      ],
      "execution_count": 114,
      "outputs": []
    },
    {
      "cell_type": "markdown",
      "metadata": {
        "id": "yDHF4WFs8W6g"
      },
      "source": [
        "#logistic regression"
      ]
    },
    {
      "cell_type": "code",
      "metadata": {
        "colab": {
          "base_uri": "https://localhost:8080/"
        },
        "id": "lNuc72-ceSeM",
        "outputId": "d239f721-15ac-4ae4-c87d-c8d0cb0c39d1"
      },
      "source": [
        "\n",
        "classifier_char_wb.fit(X_train, y_train)\n",
        "analysis_output = classifier_char_wb.predict(X_test)\n",
        "result_display()"
      ],
      "execution_count": 115,
      "outputs": [
        {
          "output_type": "stream",
          "text": [
            "Accuracy:  0.24565048039470266\n",
            "              precision    recall  f1-score   support\n",
            "\n",
            " barely-true       0.21      0.15      0.17       611\n",
            "       false       0.27      0.39      0.32       772\n",
            "   half-true       0.24      0.29      0.26       823\n",
            " mostly-true       0.25      0.29      0.27       723\n",
            "  pants-fire       0.36      0.05      0.08       301\n",
            "        true       0.22      0.15      0.18       621\n",
            "\n",
            "    accuracy                           0.25      3851\n",
            "   macro avg       0.26      0.22      0.21      3851\n",
            "weighted avg       0.25      0.25      0.23      3851\n",
            "\n",
            "[[ 91 184 163 114   7  52]\n",
            " [ 99 303 173 123   8  66]\n",
            " [ 98 190 236 201   7  91]\n",
            " [ 54 164 195 211   0  99]\n",
            " [ 52 105  70  41  14  19]\n",
            " [ 46 183 129 169   3  91]]\n"
          ],
          "name": "stdout"
        }
      ]
    },
    {
      "cell_type": "markdown",
      "metadata": {
        "id": "PuK5TR__8fC7"
      },
      "source": [
        "# Gaussian NB"
      ]
    },
    {
      "cell_type": "code",
      "metadata": {
        "colab": {
          "base_uri": "https://localhost:8080/"
        },
        "id": "1S8Zi1greSeN",
        "outputId": "9ad21faf-e912-447e-b9a7-51ae8e617d79"
      },
      "source": [
        "\n",
        "classifier_char_wb.set_params(clf=GaussianNB())\n",
        "classifier_char_wb.fit(X_train, y_train)\n",
        "analysis_output = classifier_char_wb.predict(X_test)\n",
        "result_display()"
      ],
      "execution_count": 116,
      "outputs": [
        {
          "output_type": "stream",
          "text": [
            "Accuracy:  0.22305894572838225\n",
            "              precision    recall  f1-score   support\n",
            "\n",
            " barely-true       0.19      0.15      0.17       611\n",
            "       false       0.25      0.22      0.23       772\n",
            "   half-true       0.26      0.26      0.26       823\n",
            " mostly-true       0.24      0.22      0.23       723\n",
            "  pants-fire       0.15      0.30      0.20       301\n",
            "        true       0.23      0.23      0.23       621\n",
            "\n",
            "    accuracy                           0.22      3851\n",
            "   macro avg       0.22      0.23      0.22      3851\n",
            "weighted avg       0.23      0.22      0.22      3851\n",
            "\n",
            "[[ 90 103 133  97 102  86]\n",
            " [111 167 133 101 157 103]\n",
            " [ 98 123 211 153 109 129]\n",
            " [ 67 110 167 157  81 141]\n",
            " [ 45  52  54  30  90  30]\n",
            " [ 54 116 125 112  70 144]]\n"
          ],
          "name": "stdout"
        }
      ]
    },
    {
      "cell_type": "markdown",
      "metadata": {
        "id": "Pvj1-hUP8o4W"
      },
      "source": [
        "#Support vector Machine classifier"
      ]
    },
    {
      "cell_type": "code",
      "metadata": {
        "colab": {
          "base_uri": "https://localhost:8080/"
        },
        "id": "gBlbpMm3eSeN",
        "outputId": "e2b2962f-5144-4961-95f8-e06b6097a623"
      },
      "source": [
        "\n",
        "classifier_char_wb.set_params(clf=svm.SVC(C=1.0, kernel='linear', degree=3, gamma='auto'))\n",
        "classifier_char_wb.fit(X_train, y_train)\n",
        "analysis_output = classifier_char_wb.predict(X_test)\n",
        "result_display()"
      ],
      "execution_count": 117,
      "outputs": [
        {
          "output_type": "stream",
          "text": [
            "Accuracy:  0.2466891716437289\n",
            "              precision    recall  f1-score   support\n",
            "\n",
            " barely-true       0.21      0.17      0.19       611\n",
            "       false       0.26      0.41      0.32       772\n",
            "   half-true       0.25      0.28      0.26       823\n",
            " mostly-true       0.24      0.28      0.26       723\n",
            "  pants-fire       0.00      0.00      0.00       301\n",
            "        true       0.25      0.16      0.19       621\n",
            "\n",
            "    accuracy                           0.25      3851\n",
            "   macro avg       0.20      0.22      0.20      3851\n",
            "weighted avg       0.22      0.25      0.23      3851\n",
            "\n",
            "[[101 192 160 117   0  41]\n",
            " [106 315 165 126   0  60]\n",
            " [ 99 205 234 209   0  76]\n",
            " [ 58 170 194 202   0  99]\n",
            " [ 62 126  67  32   0  14]\n",
            " [ 53 189 125 156   0  98]]\n"
          ],
          "name": "stdout"
        }
      ]
    },
    {
      "cell_type": "markdown",
      "metadata": {
        "id": "BYFt0TLa8sLQ"
      },
      "source": [
        "#Random Forest "
      ]
    },
    {
      "cell_type": "code",
      "metadata": {
        "colab": {
          "base_uri": "https://localhost:8080/"
        },
        "id": "l9Xknp0reSeO",
        "outputId": "8bb7687b-8bd7-46fa-8494-5f63fa2d738c"
      },
      "source": [
        "classifier_char_wb.set_params(clf=RandomForestClassifier())\n",
        "classifier_char_wb.fit(X_train, y_train)\n",
        "analysis_output = classifier_char_wb.predict(X_test)\n",
        "result_display()"
      ],
      "execution_count": 118,
      "outputs": [
        {
          "output_type": "stream",
          "text": [
            "Accuracy:  0.22072189041807322\n",
            "              precision    recall  f1-score   support\n",
            "\n",
            " barely-true       0.20      0.15      0.17       611\n",
            "       false       0.23      0.31      0.26       772\n",
            "   half-true       0.22      0.32      0.26       823\n",
            " mostly-true       0.24      0.29      0.26       723\n",
            "  pants-fire       0.25      0.00      0.01       301\n",
            "        true       0.18      0.08      0.11       621\n",
            "\n",
            "    accuracy                           0.22      3851\n",
            "   macro avg       0.22      0.19      0.18      3851\n",
            "weighted avg       0.22      0.22      0.20      3851\n",
            "\n",
            "[[ 92 171 185 119   2  42]\n",
            " [108 238 215 159   0  52]\n",
            " [ 96 208 261 193   0  65]\n",
            " [ 73 160 233 211   0  46]\n",
            " [ 28  97  99  60   1  16]\n",
            " [ 54 168 199 152   1  47]]\n"
          ],
          "name": "stdout"
        }
      ]
    },
    {
      "cell_type": "markdown",
      "metadata": {
        "id": "Dg7alHYceSeQ"
      },
      "source": [
        "## Lemmatisation of the 'statements' by giving POS (parts of speech) Tags as context"
      ]
    },
    {
      "cell_type": "markdown",
      "metadata": {
        "id": "JQz22R0JeSeQ"
      },
      "source": [
        "The NLTK porter stemmer was previously used to stem the'statements' in the LIAR dataset. We now use stemming. Both are aiming towards the same result: to reduce each word's inflectional forms to a single base or root. The difference between lemmatization and stemming is that a stemmer works on a single word without understanding the context, whereas lemmatization works on several words. As a result, it is impossible to distinguish between words that have multiple meanings based on their position in the sentence. The context for lemmatization is provided here via POS (parts of speech tagging). Stemmers are often easier to use and run faster, but their accuracy suffers."
      ]
    },
    {
      "cell_type": "code",
      "metadata": {
        "colab": {
          "base_uri": "https://localhost:8080/"
        },
        "id": "0M16CR-OuBMy",
        "outputId": "673181e7-e271-4064-ff1d-889b374f5c44"
      },
      "source": [
        "nltk.download('wordnet')\n",
        "nltk.download('averaged_perceptron_tagger')"
      ],
      "execution_count": 119,
      "outputs": [
        {
          "output_type": "stream",
          "text": [
            "[nltk_data] Downloading package wordnet to /root/nltk_data...\n",
            "[nltk_data]   Package wordnet is already up-to-date!\n",
            "[nltk_data] Downloading package averaged_perceptron_tagger to\n",
            "[nltk_data]     /root/nltk_data...\n",
            "[nltk_data]   Package averaged_perceptron_tagger is already up-to-\n",
            "[nltk_data]       date!\n"
          ],
          "name": "stdout"
        },
        {
          "output_type": "execute_result",
          "data": {
            "text/plain": [
              "True"
            ]
          },
          "metadata": {
            "tags": []
          },
          "execution_count": 119
        }
      ]
    },
    {
      "cell_type": "markdown",
      "metadata": {
        "id": "9JzdCNiAEb6c"
      },
      "source": [
        "#WordNetLemmatizer requires Pos tags to understand if the word is noun or verb or adjective etc. By default it is set to Noun. Here we consider only POS tags of Noun, Adjective, Verb and Adverb."
      ]
    },
    {
      "cell_type": "code",
      "metadata": {
        "id": "gqfyoMOVeSeQ"
      },
      "source": [
        "corpus=[]\n",
        "\n",
        "for state in raw_dataframe_tfid['statement']:\n",
        "    \n",
        "    texts=preprocess(state)\n",
        "    token=nltk.word_tokenize(texts)\n",
        "    corpus.append(token)\n",
        "\n",
        "tag_map = defaultdict(lambda : wn.NOUN)\n",
        "tag_map['J'] = wn.ADJ\n",
        "tag_map['V'] = wn.VERB\n",
        "tag_map['R'] = wn.ADV\n",
        "\n",
        "for index,entry in enumerate(corpus):\n",
        "    # looping through the entries and saving in the corpus\n",
        "    Final_words = []\n",
        "    # fitting WordNetLemmatizer()\n",
        "    word_Lemmatized = WordNetLemmatizer()\n",
        "    # pos_tag will provide the 'tag' i.e if the word is Noun(N) or Verb(V) etc.\n",
        "    for word, tag in pos_tag(entry):\n",
        "        # condition is to check for Stop words and consider only alphabets\n",
        "        if word not in stopwords.words('english') and word.isalpha():\n",
        "            word_Final = word_Lemmatized.lemmatize(word,tag_map[tag[0]])\n",
        "            Final_words.append(word_Final)\n",
        "    # The processed words for each 'statement' will be store in column 'lemmatised_words in the dataframe'\n",
        "    raw_dataframe_tfid.loc[index,'Lemmatised_words'] = str(Final_words)"
      ],
      "execution_count": 120,
      "outputs": []
    },
    {
      "cell_type": "markdown",
      "metadata": {
        "id": "DBkNWxzxE5v8"
      },
      "source": [
        "# sample lemmatised text of the 'statements'"
      ]
    },
    {
      "cell_type": "code",
      "metadata": {
        "colab": {
          "base_uri": "https://localhost:8080/"
        },
        "id": "z14A8H4veSeQ",
        "outputId": "bcb4f163-b5ae-4602-81b7-510309c0ddad"
      },
      "source": [
        "\n",
        "corpus[1:2]"
      ],
      "execution_count": 121,
      "outputs": [
        {
          "output_type": "execute_result",
          "data": {
            "text/plain": [
              "[['the',\n",
              "  'name',\n",
              "  'frank',\n",
              "  'has',\n",
              "  'risen',\n",
              "  'in',\n",
              "  'popularity',\n",
              "  'by',\n",
              "  '20',\n",
              "  'percent',\n",
              "  'since',\n",
              "  'the',\n",
              "  'debut',\n",
              "  'of',\n",
              "  'house',\n",
              "  'of',\n",
              "  'cardson',\n",
              "  'netflix']]"
            ]
          },
          "metadata": {
            "tags": []
          },
          "execution_count": 121
        }
      ]
    },
    {
      "cell_type": "code",
      "metadata": {
        "id": "Nhi8u4vGeSeR"
      },
      "source": [
        "X=raw_dataframe_tfid['Lemmatised_words'].tolist()\n",
        "y=raw_dataframe_tfid['label']"
      ],
      "execution_count": 122,
      "outputs": []
    },
    {
      "cell_type": "markdown",
      "metadata": {
        "id": "XNceB1Z3E9_P"
      },
      "source": [
        "# fitting TfidfVectorizer with the lemmatised 'statements' using labelencoder"
      ]
    },
    {
      "cell_type": "code",
      "metadata": {
        "id": "xnTKgj0teSeR"
      },
      "source": [
        "\n",
        "Encoder = LabelEncoder()\n",
        "y = Encoder.fit_transform(y)\n",
        "\n",
        "Tfidf_vect = TfidfVectorizer()\n",
        "Tfidf_vect.fit(raw_dataframe_tfid['Lemmatised_words'])\n",
        "X = Tfidf_vect.transform(X)"
      ],
      "execution_count": 123,
      "outputs": []
    },
    {
      "cell_type": "markdown",
      "metadata": {
        "id": "-1RPisHOFFqM"
      },
      "source": [
        "# logistic regression classifier"
      ]
    },
    {
      "cell_type": "code",
      "metadata": {
        "id": "g5V9Hl0ReSeR"
      },
      "source": [
        "logistic = LogisticRegression(solver='liblinear', random_state=0)"
      ],
      "execution_count": 124,
      "outputs": []
    },
    {
      "cell_type": "markdown",
      "metadata": {
        "id": "iOPimBq1FKTW"
      },
      "source": [
        "# cross validation of logistic with stratifiedkfold "
      ]
    },
    {
      "cell_type": "code",
      "metadata": {
        "colab": {
          "base_uri": "https://localhost:8080/"
        },
        "id": "e2Rr9oJXeSeS",
        "outputId": "f7b8c0ef-74c6-44b0-dbed-d09be3424edc"
      },
      "source": [
        "\n",
        "cv_scores = cross_validate(logistic, X, y, cv=StratifiedKFold(n_splits=5, random_state=0), return_train_score=False, scoring=['accuracy', 'precision_weighted', 'recall_weighted', 'f1_weighted'])\n",
        "displaying_scores_summary(\"Accuracy\", cv_scores['test_accuracy'])\n",
        "displaying_scores_summary(\"Precision\", cv_scores['test_precision_weighted'])\n",
        "displaying_scores_summary(\"Recall\", cv_scores['test_recall_weighted'])\n",
        "displaying_scores_summary(\"F1\", cv_scores['test_f1_weighted'])\n",
        "\n"
      ],
      "execution_count": 125,
      "outputs": [
        {
          "output_type": "stream",
          "text": [
            "Accuracy: mean = 25.05%, sd = 0.74%, min = 23.96, max = 26.06\n",
            "Precision: mean = 25.54%, sd = 1.50%, min = 23.46, max = 27.49\n",
            "Recall: mean = 25.05%, sd = 0.74%, min = 23.96, max = 26.06\n",
            "F1: mean = 23.95%, sd = 0.85%, min = 22.70, max = 25.06\n"
          ],
          "name": "stdout"
        }
      ]
    },
    {
      "cell_type": "markdown",
      "metadata": {
        "id": "hayo05A5FooW"
      },
      "source": [
        "#SVM "
      ]
    },
    {
      "cell_type": "code",
      "metadata": {
        "id": "OWJZqXS3eSeS"
      },
      "source": [
        "SVM_classifier=svm.SVC(C=1.0, kernel='linear', degree=3, gamma='auto', random_state=0)"
      ],
      "execution_count": 126,
      "outputs": []
    },
    {
      "cell_type": "markdown",
      "metadata": {
        "id": "D8mmPw2xFsie"
      },
      "source": [
        "#Cross Validate SVM and Stratifiedkfold"
      ]
    },
    {
      "cell_type": "code",
      "metadata": {
        "colab": {
          "base_uri": "https://localhost:8080/"
        },
        "id": "FB5-_N0QeSeT",
        "outputId": "acfcafd8-ff6e-4061-885a-890074d24c39"
      },
      "source": [
        "cv_scores = cross_validate(SVM_classifier, X, y, cv=StratifiedKFold(n_splits=5, random_state=0), return_train_score=False, scoring=['accuracy', 'precision_weighted', 'recall_weighted', 'f1_weighted'])\n",
        "displaying_scores_summary(\"Accuracy\", cv_scores['test_accuracy'])\n",
        "displaying_scores_summary(\"Precision\", cv_scores['test_precision_weighted'])\n",
        "displaying_scores_summary(\"Recall\", cv_scores['test_recall_weighted'])\n",
        "displaying_scores_summary(\"F1\", cv_scores['test_f1_weighted'])\n"
      ],
      "execution_count": 127,
      "outputs": [
        {
          "output_type": "stream",
          "text": [
            "Accuracy: mean = 24.26%, sd = 0.94%, min = 22.71, max = 25.28\n",
            "Precision: mean = 25.13%, sd = 1.45%, min = 22.80, max = 27.00\n",
            "Recall: mean = 24.26%, sd = 0.94%, min = 22.71, max = 25.28\n",
            "F1: mean = 23.45%, sd = 0.96%, min = 21.84, max = 24.45\n"
          ],
          "name": "stdout"
        }
      ]
    },
    {
      "cell_type": "code",
      "metadata": {
        "id": "X0VUGJEEeSeT"
      },
      "source": [
        ""
      ],
      "execution_count": 127,
      "outputs": []
    },
    {
      "cell_type": "code",
      "metadata": {
        "id": "INbp7ZJSeSeT"
      },
      "source": [
        ""
      ],
      "execution_count": 127,
      "outputs": []
    },
    {
      "cell_type": "markdown",
      "metadata": {
        "id": "ay-7p3zVeSeT"
      },
      "source": [
        "## Converting the Multiclass labels into Binary class labels (Fake & True) and predicting"
      ]
    },
    {
      "cell_type": "code",
      "metadata": {
        "colab": {
          "base_uri": "https://localhost:8080/",
          "height": 204
        },
        "id": "GSp2OjGJeSeT",
        "outputId": "405df150-e9d5-4e43-fdde-8758fff1d662"
      },
      "source": [
        "new_df.head(5)"
      ],
      "execution_count": 128,
      "outputs": [
        {
          "output_type": "execute_result",
          "data": {
            "text/html": [
              "<div>\n",
              "<style scoped>\n",
              "    .dataframe tbody tr th:only-of-type {\n",
              "        vertical-align: middle;\n",
              "    }\n",
              "\n",
              "    .dataframe tbody tr th {\n",
              "        vertical-align: top;\n",
              "    }\n",
              "\n",
              "    .dataframe thead th {\n",
              "        text-align: right;\n",
              "    }\n",
              "</style>\n",
              "<table border=\"1\" class=\"dataframe\">\n",
              "  <thead>\n",
              "    <tr style=\"text-align: right;\">\n",
              "      <th></th>\n",
              "      <th>label</th>\n",
              "      <th>statement</th>\n",
              "    </tr>\n",
              "  </thead>\n",
              "  <tbody>\n",
              "    <tr>\n",
              "      <th>0</th>\n",
              "      <td>True</td>\n",
              "      <td>\"McCain opposes a woman's right to choose.\"</td>\n",
              "    </tr>\n",
              "    <tr>\n",
              "      <th>1</th>\n",
              "      <td>False</td>\n",
              "      <td>The name Frank has risen in popularity by 20 p...</td>\n",
              "    </tr>\n",
              "    <tr>\n",
              "      <th>2</th>\n",
              "      <td>False</td>\n",
              "      <td>Says Ted Cruz never denied his father was phot...</td>\n",
              "    </tr>\n",
              "    <tr>\n",
              "      <th>3</th>\n",
              "      <td>True</td>\n",
              "      <td>Its been 14 years since a president or a vice ...</td>\n",
              "    </tr>\n",
              "    <tr>\n",
              "      <th>4</th>\n",
              "      <td>True</td>\n",
              "      <td>In the year 2013, the Obama administration rel...</td>\n",
              "    </tr>\n",
              "  </tbody>\n",
              "</table>\n",
              "</div>"
            ],
            "text/plain": [
              "   label                                          statement\n",
              "0   True        \"McCain opposes a woman's right to choose.\"\n",
              "1  False  The name Frank has risen in popularity by 20 p...\n",
              "2  False  Says Ted Cruz never denied his father was phot...\n",
              "3   True  Its been 14 years since a president or a vice ...\n",
              "4   True  In the year 2013, the Obama administration rel..."
            ]
          },
          "metadata": {
            "tags": []
          },
          "execution_count": 128
        }
      ]
    },
    {
      "cell_type": "code",
      "metadata": {
        "id": "hoOLrZBGeSeT"
      },
      "source": [
        "new_df['TotalWords'] = new_df['statement'].str.split().str.len()"
      ],
      "execution_count": 129,
      "outputs": []
    },
    {
      "cell_type": "code",
      "metadata": {
        "colab": {
          "base_uri": "https://localhost:8080/",
          "height": 111
        },
        "id": "l5H6eXuBeSeU",
        "outputId": "cb3bf2a5-92db-48f7-e577-74e1cdce973e"
      },
      "source": [
        "new_df.head(2)"
      ],
      "execution_count": 130,
      "outputs": [
        {
          "output_type": "execute_result",
          "data": {
            "text/html": [
              "<div>\n",
              "<style scoped>\n",
              "    .dataframe tbody tr th:only-of-type {\n",
              "        vertical-align: middle;\n",
              "    }\n",
              "\n",
              "    .dataframe tbody tr th {\n",
              "        vertical-align: top;\n",
              "    }\n",
              "\n",
              "    .dataframe thead th {\n",
              "        text-align: right;\n",
              "    }\n",
              "</style>\n",
              "<table border=\"1\" class=\"dataframe\">\n",
              "  <thead>\n",
              "    <tr style=\"text-align: right;\">\n",
              "      <th></th>\n",
              "      <th>label</th>\n",
              "      <th>statement</th>\n",
              "      <th>TotalWords</th>\n",
              "    </tr>\n",
              "  </thead>\n",
              "  <tbody>\n",
              "    <tr>\n",
              "      <th>0</th>\n",
              "      <td>True</td>\n",
              "      <td>\"McCain opposes a woman's right to choose.\"</td>\n",
              "      <td>7</td>\n",
              "    </tr>\n",
              "    <tr>\n",
              "      <th>1</th>\n",
              "      <td>False</td>\n",
              "      <td>The name Frank has risen in popularity by 20 p...</td>\n",
              "      <td>18</td>\n",
              "    </tr>\n",
              "  </tbody>\n",
              "</table>\n",
              "</div>"
            ],
            "text/plain": [
              "   label                                          statement  TotalWords\n",
              "0   True        \"McCain opposes a woman's right to choose.\"           7\n",
              "1  False  The name Frank has risen in popularity by 20 p...          18"
            ]
          },
          "metadata": {
            "tags": []
          },
          "execution_count": 130
        }
      ]
    },
    {
      "cell_type": "code",
      "metadata": {
        "id": "L8pVNvhTeSeU"
      },
      "source": [
        "X = new_df[['statement', 'TotalWords']]\n",
        "\n",
        "Y=  new_df['label']"
      ],
      "execution_count": 131,
      "outputs": []
    },
    {
      "cell_type": "code",
      "metadata": {
        "id": "dhLslSYteSeU"
      },
      "source": [
        "X_train, X_test, y_train, y_test = train_test_split(X, Y, test_size=0.3)"
      ],
      "execution_count": 132,
      "outputs": []
    },
    {
      "cell_type": "code",
      "metadata": {
        "id": "5cad00GfeSeU"
      },
      "source": [
        "\n",
        "classifier_biclass = Pipeline([\n",
        "    ('features', FeatureUnion([\n",
        "        ('text', Pipeline([\n",
        "            ('colext', TextSelector('statement')),\n",
        "            ('tfidf', TfidfVectorizer(analyzer='word',preprocessor=preprocess, tokenizer=Tokenizer, stop_words=tostop_list,\n",
        "                     min_df=.0025, max_df=0.25, ngram_range=(1,3))),\n",
        "            ('svd', TruncatedSVD(algorithm='randomized', n_components=300)), #for XGB\n",
        "        ])),\n",
        "        ('words', Pipeline([\n",
        "            ('wordext', NumberSelector('TotalWords')),\n",
        "            ('wscaler', StandardScaler()),\n",
        "        ])),\n",
        "    ])),\n",
        "    ('clf', LogisticRegression(solver='liblinear', random_state=0)),\n",
        "    ])"
      ],
      "execution_count": 133,
      "outputs": []
    },
    {
      "cell_type": "code",
      "metadata": {
        "colab": {
          "base_uri": "https://localhost:8080/"
        },
        "id": "2KWJmCJMeSeU",
        "outputId": "109ea16f-2fce-4d43-abe9-360503ea758f"
      },
      "source": [
        "classifier_biclass.fit(X_train, y_train)\n",
        "analysis_output = classifier_biclass.predict(X_test)\n",
        "result_display()"
      ],
      "execution_count": 134,
      "outputs": [
        {
          "output_type": "stream",
          "text": [
            "Accuracy:  0.6128278369254739\n",
            "              precision    recall  f1-score   support\n",
            "\n",
            "       False       0.57      0.46      0.51      1672\n",
            "        True       0.64      0.73      0.68      2179\n",
            "\n",
            "    accuracy                           0.61      3851\n",
            "   macro avg       0.60      0.60      0.59      3851\n",
            "weighted avg       0.61      0.61      0.61      3851\n",
            "\n",
            "[[ 772  900]\n",
            " [ 591 1588]]\n"
          ],
          "name": "stdout"
        }
      ]
    },
    {
      "cell_type": "code",
      "metadata": {
        "colab": {
          "base_uri": "https://localhost:8080/",
          "height": 295
        },
        "id": "CqRw2H_JeSeV",
        "outputId": "c4232b71-0a21-4e16-f4a6-138a29f1c7ce"
      },
      "source": [
        "matrix=confusion_matrix(y_test, analysis_output) # getting the results of confusion matrix from the classification.\n",
        "sns.heatmap(matrix, annot = True,fmt='g')       # printing the matrix\n",
        "plt.title('Logistic Regression binary class Confusion-Matrix')\n",
        "plt.ylabel('True labels')\n",
        "plt.xlabel('Predicted labels');"
      ],
      "execution_count": 135,
      "outputs": [
        {
          "output_type": "display_data",
          "data": {
            "image/png": "[encoded data removed]",
            "text/plain": [
              "<Figure size 432x288 with 2 Axes>"
            ]
          },
          "metadata": {
            "tags": [],
            "needs_background": "light"
          }
        }
      ]
    },
    {
      "cell_type": "markdown",
      "metadata": {
        "id": "Jk-NmVgPF4SX"
      },
      "source": [
        "#GaussionNB"
      ]
    },
    {
      "cell_type": "code",
      "metadata": {
        "colab": {
          "base_uri": "https://localhost:8080/"
        },
        "id": "K1sRebfgeSeV",
        "outputId": "7b2a448a-cf72-4ad3-f19d-1e183c64afa6"
      },
      "source": [
        "classifier_biclass.set_params(clf=GaussianNB())\n",
        "classifier_biclass.fit(X_train, y_train)\n",
        "analysis_output = classifier_biclass.predict(X_test)\n",
        "result_display()"
      ],
      "execution_count": 136,
      "outputs": [
        {
          "output_type": "stream",
          "text": [
            "Accuracy:  0.5614126200986757\n",
            "              precision    recall  f1-score   support\n",
            "\n",
            "       False       0.50      0.55      0.52      1672\n",
            "        True       0.62      0.57      0.60      2179\n",
            "\n",
            "    accuracy                           0.56      3851\n",
            "   macro avg       0.56      0.56      0.56      3851\n",
            "weighted avg       0.57      0.56      0.56      3851\n",
            "\n",
            "[[ 921  751]\n",
            " [ 938 1241]]\n"
          ],
          "name": "stdout"
        }
      ]
    },
    {
      "cell_type": "markdown",
      "metadata": {
        "id": "81SNUzTGGCi1"
      },
      "source": [
        "#SVM Support vector machine"
      ]
    },
    {
      "cell_type": "code",
      "metadata": {
        "colab": {
          "base_uri": "https://localhost:8080/"
        },
        "id": "nV86yD9NeSeV",
        "outputId": "1c34ccab-54e7-42aa-8c58-bb763fad4ecc"
      },
      "source": [
        "classifier.set_params(clf=svm.SVC(C=1.0, kernel='linear', degree=3, gamma='auto'))\n",
        "classifier_biclass.fit(X_train, y_train)\n",
        "analysis_output = classifier_biclass.predict(X_test)\n",
        "result_display()"
      ],
      "execution_count": 137,
      "outputs": [
        {
          "output_type": "stream",
          "text": [
            "Accuracy:  0.5585562191638536\n",
            "              precision    recall  f1-score   support\n",
            "\n",
            "       False       0.49      0.55      0.52      1672\n",
            "        True       0.62      0.56      0.59      2179\n",
            "\n",
            "    accuracy                           0.56      3851\n",
            "   macro avg       0.56      0.56      0.56      3851\n",
            "weighted avg       0.57      0.56      0.56      3851\n",
            "\n",
            "[[ 921  751]\n",
            " [ 949 1230]]\n"
          ],
          "name": "stdout"
        }
      ]
    },
    {
      "cell_type": "markdown",
      "metadata": {
        "id": "TBY6Bs7yGIFu"
      },
      "source": [
        "#Decision Tress classifier"
      ]
    },
    {
      "cell_type": "code",
      "metadata": {
        "colab": {
          "base_uri": "https://localhost:8080/"
        },
        "id": "7CA5ahV1eSeV",
        "outputId": "9d566a52-7f79-473c-b9a0-2e19c3e47ba5"
      },
      "source": [
        "decision_tree=tree.DecisionTreeClassifier(random_state=1000)\n",
        "classifier.set_params(clf=decision_tree)\n",
        "classifier_biclass.fit(X_train, y_train)\n",
        "analysis_output = classifier_biclass.predict(X_test)\n",
        "result_display()"
      ],
      "execution_count": 138,
      "outputs": [
        {
          "output_type": "stream",
          "text": [
            "Accuracy:  0.5588158919761101\n",
            "              precision    recall  f1-score   support\n",
            "\n",
            "       False       0.49      0.56      0.52      1672\n",
            "        True       0.62      0.56      0.59      2179\n",
            "\n",
            "    accuracy                           0.56      3851\n",
            "   macro avg       0.56      0.56      0.56      3851\n",
            "weighted avg       0.57      0.56      0.56      3851\n",
            "\n",
            "[[ 932  740]\n",
            " [ 959 1220]]\n"
          ],
          "name": "stdout"
        }
      ]
    },
    {
      "cell_type": "markdown",
      "metadata": {
        "id": "irRuDMdYGOR1"
      },
      "source": [
        "#Random Forest"
      ]
    },
    {
      "cell_type": "code",
      "metadata": {
        "colab": {
          "base_uri": "https://localhost:8080/"
        },
        "id": "NgCrZYTPeSeW",
        "outputId": "5b4bf29b-d376-4694-cd9b-943dc67adbfd"
      },
      "source": [
        "classifier.set_params(clf=RandomForestClassifier())\n",
        "classifier_biclass.fit(X_train, y_train)\n",
        "analysis_output = classifier_biclass.predict(X_test)\n",
        "result_display()"
      ],
      "execution_count": 139,
      "outputs": [
        {
          "output_type": "stream",
          "text": [
            "Accuracy:  0.5593352376006232\n",
            "              precision    recall  f1-score   support\n",
            "\n",
            "       False       0.49      0.55      0.52      1672\n",
            "        True       0.62      0.57      0.59      2179\n",
            "\n",
            "    accuracy                           0.56      3851\n",
            "   macro avg       0.56      0.56      0.56      3851\n",
            "weighted avg       0.57      0.56      0.56      3851\n",
            "\n",
            "[[ 921  751]\n",
            " [ 946 1233]]\n"
          ],
          "name": "stdout"
        }
      ]
    }
  ]
}